{
 "cells": [
  {
   "cell_type": "code",
   "execution_count": 1,
   "metadata": {},
   "outputs": [],
   "source": [
    "import pickle\n",
    "\n",
    "\n",
    "\n"
   ]
  },
  {
   "cell_type": "code",
   "execution_count": 2,
   "metadata": {},
   "outputs": [],
   "source": [
    "companies_link = pickle.load(open('companies_link.pkl', 'rb'))"
   ]
  },
  {
   "cell_type": "code",
   "execution_count": 13,
   "metadata": {},
   "outputs": [
    {
     "data": {
      "text/plain": [
       "55"
      ]
     },
     "execution_count": 13,
     "metadata": {},
     "output_type": "execute_result"
    }
   ],
   "source": [
    "len(companies_link)"
   ]
  },
  {
   "cell_type": "code",
   "execution_count": 14,
   "metadata": {},
   "outputs": [],
   "source": [
    "comp_data = {key: companies_link[key] for key in companies_link.keys() if len(companies_link[key])}"
   ]
  },
  {
   "cell_type": "code",
   "execution_count": 15,
   "metadata": {},
   "outputs": [
    {
     "data": {
      "text/plain": [
       "45"
      ]
     },
     "execution_count": 15,
     "metadata": {},
     "output_type": "execute_result"
    }
   ],
   "source": [
    "len(comp_data)\n"
   ]
  },
  {
   "cell_type": "code",
   "execution_count": 16,
   "metadata": {},
   "outputs": [
    {
     "data": {
      "text/plain": [
       "{'Agility Recovery': {'Agility Recovery': 'www.indeed.com/cmp/Agility-Recovery',\n",
       "  'Agility Recovery Solutions': 'www.indeed.com/cmp/Agility-Recovery-Solutions'},\n",
       " 'Arrow Electronics': {'A.E. Petsche/Arrow Electronics': 'www.indeed.com/cmp/A.e.-Petsche/arrow-Electronics',\n",
       "  'Arrow Electronics': 'www.indeed.com/cmp/Arrow-Electronics',\n",
       "  'Arrow Zeus Electronics': 'www.indeed.com/cmp/Arrow-Zeus-Electronics',\n",
       "  'Arrows Electronics': 'www.indeed.com/cmp/Arrows-Electronics'},\n",
       " 'At Home Personal Care': {'At Home Healthcare': 'www.indeed.com/cmp/At-Home-Healthcare',\n",
       "  'Stay at Home Personal Care': 'www.indeed.com/cmp/Stay-At-Home-Personal-Care'},\n",
       " 'Ball Corporation': {'Ball Aerospace': 'www.indeed.com/cmp/Ball-Aerospace',\n",
       "  'Ball Corporation': 'www.indeed.com/cmp/Ball-Corporation',\n",
       "  'Ball Memorial Hospital': 'www.indeed.com/cmp/Ball-Memorial-Hospital',\n",
       "  'Balls Foods': 'www.indeed.com/cmp/Balls-Foods',\n",
       "  'Bally Technologies': 'www.indeed.com/cmp/Bally-Technologies',\n",
       "  'Bally Total Fitness': 'www.indeed.com/cmp/Bally-Total-Fitness',\n",
       "  \"Bally's Casino\": \"www.indeed.com/cmp/Bally's-Casino\",\n",
       "  'IU Health Ball Memorial Hospital': 'www.indeed.com/cmp/Iu-Health-Ball-Memorial-Hospital',\n",
       "  'JOHN BALL ZOO': 'www.indeed.com/cmp/John-Ball-Zoo',\n",
       "  'National Football League': 'www.indeed.com/cmp/National-Football-League'},\n",
       " 'Business': {'Better Business Bureau': 'www.indeed.com/cmp/Better-Business-Bureau',\n",
       "  'Business Insider': 'www.indeed.com/cmp/Business-Insider',\n",
       "  'Businessolver': 'www.indeed.com/cmp/Businessolver',\n",
       "  'CORT Business Services': 'www.indeed.com/cmp/Cort-Business-Services',\n",
       "  'Cherokee Nation Businesses': 'www.indeed.com/cmp/Cherokee-Nation-Businesses',\n",
       "  'Citizens Business Bank': 'www.indeed.com/cmp/Citizens-Business-Bank',\n",
       "  'Konica Minolta Business Solutions, U.S.A., Inc.': 'www.indeed.com/cmp/Konica-Minolta-Business-Solutions,-U.s.a.,-Inc.',\n",
       "  'Progressive Business Publications': 'www.indeed.com/cmp/Progressive-Business-Publications',\n",
       "  'Toshiba America Business Solutions, Inc.': 'www.indeed.com/cmp/Toshiba-America-Business-Solutions,-Inc.',\n",
       "  'Toshiba Business Solutions': 'www.indeed.com/cmp/Toshiba-Business-Solutions'},\n",
       " 'CED - Consolidated Electrical Distributors, Inc.': {'CED Consolidated Electrical Distributors': 'www.indeed.com/cmp/Ced-Consolidated-Electrical-Distributors-1',\n",
       "  'CONSOLIDATED ELECTRICAL DISTRIBUTORS (CED)': 'www.indeed.com/cmp/Consolidated-Electrical-Distributors-(ced)'},\n",
       " 'City Year Inc': {'City Year': 'www.indeed.com/cmp/City-Year',\n",
       "  'City Year Boston': 'www.indeed.com/cmp/City-Year-Boston',\n",
       "  'City Year Chicago': 'www.indeed.com/cmp/City-Year-Chicago',\n",
       "  'City Year Cleveland': 'www.indeed.com/cmp/City-Year-Cleveland',\n",
       "  'City Year Detroit': 'www.indeed.com/cmp/City-Year-Detroit',\n",
       "  'City Year Greater Philadelphia': 'www.indeed.com/cmp/City-Year-Greater-Philadelphia',\n",
       "  'City Year Los Angeles': 'www.indeed.com/cmp/City-Year-Los-Angeles',\n",
       "  'City Year Miami': 'www.indeed.com/cmp/City-Year-Miami',\n",
       "  'City Year New York': 'www.indeed.com/cmp/City-Year-New-York',\n",
       "  'City Year Philadelphia': 'www.indeed.com/cmp/City-Year-Philadelphia'},\n",
       " 'City and County Of Denver': {'City and County of Denver': 'www.indeed.com/cmp/City-and-County-of-Denver'},\n",
       " 'Collabera': {'AT&T': 'www.indeed.com/cmp/AT&T',\n",
       "  'Accenture': 'www.indeed.com/cmp/Accenture',\n",
       "  'Amazon.com': 'www.indeed.com/cmp/Amazon.com',\n",
       "  'Collabera': 'www.indeed.com/cmp/Collabera',\n",
       "  'CompuCom': 'www.indeed.com/cmp/Compucom',\n",
       "  'Deloitte': 'www.indeed.com/cmp/Deloitte',\n",
       "  'Honeywell': 'www.indeed.com/cmp/Honeywell',\n",
       "  'JPMorgan Chase': 'www.indeed.com/cmp/JPMorgan-Chase',\n",
       "  'MetLife via Collabera Inc': 'www.indeed.com/cmp/MetLife-Via-Collabera-Inc',\n",
       "  'Microsoft': 'www.indeed.com/cmp/Microsoft'},\n",
       " 'Coyote Logistics LLC': {'Coyote Logistics': 'www.indeed.com/cmp/Coyote-Logistics',\n",
       "  'Coyote Logistics, A UPS Company': 'www.indeed.com/cmp/Coyote-Logistics,-A-UPS-Company'},\n",
       " 'Delta Dental CO': {'Delta Dental': 'www.indeed.com/cmp/Delta-Dental',\n",
       "  'Delta Dental California': 'www.indeed.com/cmp/Delta-Dental-California',\n",
       "  'Delta Dental of Illinois': 'www.indeed.com/cmp/Delta-Dental-of-Illinois',\n",
       "  'Delta Dental of Iowa': 'www.indeed.com/cmp/Delta-Dental-of-Iowa',\n",
       "  'Delta Dental of Kentucky': 'www.indeed.com/cmp/Delta-Dental-of-Kentucky',\n",
       "  'Delta Dental of Minnesota': 'www.indeed.com/cmp/Delta-Dental-of-Minnesota',\n",
       "  'Delta Dental of New Mexico': 'www.indeed.com/cmp/Delta-Dental-of-New-Mexico',\n",
       "  'Delta Dental of Washington': 'www.indeed.com/cmp/Delta-Dental-of-Washington',\n",
       "  'Delta Dental of Wisconsin': 'www.indeed.com/cmp/Delta-Dental-of-Wisconsin',\n",
       "  'PMI Delta Dental': 'www.indeed.com/cmp/PMI-Delta-Dental'},\n",
       " 'Ensign Services Inc': {'Ensign Energy Services Inc.': 'www.indeed.com/cmp/Ensign-Energy-Services-Inc.',\n",
       "  'Ensign Facility Services': 'www.indeed.com/cmp/Ensign-Facility-Services',\n",
       "  'Ensign Services': 'www.indeed.com/cmp/Ensign-Services',\n",
       "  'Ensign Services, Inc': 'www.indeed.com/cmp/Ensign-Services,-Inc',\n",
       "  'Ensign Services, Inc.': 'www.indeed.com/cmp/Ensign-Services,-Inc.',\n",
       "  'Ensign Well Services': 'www.indeed.com/cmp/Ensign-Well-Services'},\n",
       " 'Federal Reserve Bank Of Kansas City': {'Federal Reserve Bank of Kansas City': 'www.indeed.com/cmp/Federal-Reserve-Bank-of-Kansas-City'},\n",
       " 'Foresters Financial': {'American Income Life': 'www.indeed.com/cmp/American-Income-Life',\n",
       "  \"Forester's Financial\": \"www.indeed.com/cmp/Forester's-Financial\",\n",
       "  \"Forester's Financial Services\": \"www.indeed.com/cmp/Forester's-Financial-Services\",\n",
       "  'Foresters Financial': 'www.indeed.com/cmp/Foresters-Financial'},\n",
       " 'Frontier Airlines, Inc.': {'FRONTIER AIRLINES, INC': 'www.indeed.com/cmp/Frontier-Airlines,-Inc',\n",
       "  'Frontier Airlines': 'www.indeed.com/cmp/Frontier-Airlines',\n",
       "  'Frontier Airlines Airport Terminal Services': 'www.indeed.com/cmp/Frontier-Airlines-Airport-Terminal-Services',\n",
       "  'Frontier Airlines, Inc.': 'www.indeed.com/cmp/Frontier-Airlines,-Inc.',\n",
       "  'Sitel': 'www.indeed.com/cmp/Sitel',\n",
       "  'Swissport International Ltd.': 'www.indeed.com/cmp/Swissport-International-Ltd.',\n",
       "  'Trego/Dugan Aviation': 'www.indeed.com/cmp/Trego-Dugan-Aviation-2',\n",
       "  'WorldWide Flight Services-Frontier Airlines': 'www.indeed.com/cmp/Worldwide-Flight-Services--frontier-Airlines'},\n",
       " 'General Services Administration': {'General Service Administration': 'www.indeed.com/cmp/General-Service-Administration',\n",
       "  'General Service Administration (GSA)': 'www.indeed.com/cmp/General-Service-Administration-(gsa)',\n",
       "  'General Services Administration (GSA)': 'www.indeed.com/cmp/General-Services-Administration-(gsa)',\n",
       "  'South Carolina Department of Administration General Services Division': 'www.indeed.com/cmp/South-Carolina-Department-of-Administration-General-Services-Division',\n",
       "  'U S General Services Administration': 'www.indeed.com/cmp/U-S-General-Services-Administration',\n",
       "  'U.S General Services Administration': 'www.indeed.com/cmp/U.s-General-Services-Administration',\n",
       "  'U.S. General Service Administration': 'www.indeed.com/cmp/U.S.-General-Service-Administration',\n",
       "  'US General Services Administration': 'www.indeed.com/cmp/US-General-Services-Administration',\n",
       "  'US General Services Administration (GSA)': 'www.indeed.com/cmp/US-General-Services-Administration-(gsa)',\n",
       "  'United States General Services Administration': 'www.indeed.com/cmp/United-States-General-Services-Administration'},\n",
       " 'Grace Presbyterian Village': {'Grace Presbyterian Village': 'www.indeed.com/cmp/Grace-Presbyterian-Village'},\n",
       " 'Graebel Companies, Inc.': {'GRAEBEL COMPANIES INC': 'www.indeed.com/cmp/Graebel-Companies-Inc',\n",
       "  'Graebel Companies': 'www.indeed.com/cmp/Graebel-Companies',\n",
       "  'Graebel Companies, Inc': 'www.indeed.com/cmp/Graebel-Companies,-Inc',\n",
       "  'Graebel Companies, Inc.': 'www.indeed.com/cmp/Graebel-Companies,-Inc.'},\n",
       " 'Hagerty': {'Hagerty': 'www.indeed.com/cmp/Hagerty',\n",
       "  'Hagerty Consulting': 'www.indeed.com/cmp/Hagerty-Consulting',\n",
       "  'Hagerty High School': 'www.indeed.com/cmp/Hagerty-High-School',\n",
       "  'Hagerty Industrial Supply': 'www.indeed.com/cmp/Hagerty-Industrial-Supply',\n",
       "  'Hagerty Pop Warner': 'www.indeed.com/cmp/Hagerty-Pop-Warner',\n",
       "  'Hagerty Steel': 'www.indeed.com/cmp/Hagerty-Steel',\n",
       "  'Hagerty Steel & Aluminum': 'www.indeed.com/cmp/Hagerty-Steel-&-Aluminum',\n",
       "  \"Hess, Egan, Hagerty & L'Hommedieu, Inc.\": \"www.indeed.com/cmp/Hess,-Egan,-Hagerty-&-L'hommedieu,-Inc.\",\n",
       "  'Kalbian Hagerty, LLP': 'www.indeed.com/cmp/Kalbian-Hagerty,-LLP'},\n",
       " 'IHG - InterContinental Hotels Group': {'Crowne Plaza Hotel': 'www.indeed.com/cmp/Crowne-Plaza-Hotel',\n",
       "  'InterContinental Hotels Group': 'www.indeed.com/cmp/Intercontinental-Hotels-Group'},\n",
       " 'Ibotta, Inc.': {'Ibotta': 'www.indeed.com/cmp/Ibotta',\n",
       "  'Ibotta, Inc': 'www.indeed.com/cmp/Ibotta,-Inc'},\n",
       " 'Janus Henderson Investors': {'Janus Henderson Investors': 'www.indeed.com/cmp/Janus-Henderson-Investors'},\n",
       " 'Monterey Marketing Inc': {'Monterey Marketing': 'www.indeed.com/cmp/Monterey-Marketing',\n",
       "  'Monterey Marketing LLC': 'www.indeed.com/cmp/Monterey-Marketing-LLC'},\n",
       " 'Mutual of Omaha': {'Mutual of Omaha': 'www.indeed.com/cmp/Mutual-of-Omaha',\n",
       "  'New York Life': 'www.indeed.com/cmp/New-York-Life',\n",
       "  'Northwestern Mutual': 'www.indeed.com/cmp/Northwestern-Mutual'},\n",
       " 'New York Life Insurance Company': {'Bankers Life': 'www.indeed.com/cmp/Bankers-Life',\n",
       "  'Combined Life Insurance Company of new York': 'www.indeed.com/cmp/Combined-Life-Insurance-Company-of-New-York',\n",
       "  'Guardian Life Insurance Company': 'www.indeed.com/cmp/Guardian-Life-Insurance-Company',\n",
       "  'ING Vysya Bank': 'www.indeed.com/cmp/Ing-Vysya-Bank',\n",
       "  'Kotak Mahindra Bank': 'www.indeed.com/cmp/Kotak-Mahindra-Bank',\n",
       "  'Max life insurance': 'www.indeed.com/cmp/Max-Life-Insurance',\n",
       "  'New York Life': 'www.indeed.com/cmp/New-York-Life',\n",
       "  'New York Life Insurance Company': 'www.indeed.com/cmp/New-York-Life-Insurance-Company',\n",
       "  'NextSource New York Life Insurance': 'www.indeed.com/cmp/Nextsource-New-York-Life-Insurance',\n",
       "  'Security Mutual Life Insurance Company of New York': 'www.indeed.com/cmp/Security-Mutual-Life-Insurance-Company-of-New-York'},\n",
       " 'Oakwood Homes, LLC': {'OAKWOOD LUTHERAN HOMES': 'www.indeed.com/cmp/Oakwood-Lutheran-Homes',\n",
       "  'Oakwood Homes': 'www.indeed.com/cmp/Oakwood-Homes',\n",
       "  'Oakwood Lutheran Homes Association': 'www.indeed.com/cmp/Oakwood-Lutheran-Homes-Association'},\n",
       " 'Pacific Office Automation': {'Pacific Office Automation': 'www.indeed.com/cmp/Pacific-Office-Automation',\n",
       "  'Pacific Office Automations': 'www.indeed.com/cmp/Pacific-Office-Automations'},\n",
       " 'Penske Truck Leasing': {'Penske': 'www.indeed.com/cmp/Penske'},\n",
       " 'Procter & Gamble': {'Accenture': 'www.indeed.com/cmp/Accenture',\n",
       "  'DHL': 'www.indeed.com/cmp/DHL',\n",
       "  'GOODWIN PROCTER': 'www.indeed.com/cmp/Goodwin-Procter',\n",
       "  'Goodwin Procter LLP': 'www.indeed.com/cmp/Goodwin-Procter-LLP',\n",
       "  'HP': 'www.indeed.com/cmp/HP',\n",
       "  'IBM': 'www.indeed.com/cmp/IBM',\n",
       "  'Manpower': 'www.indeed.com/cmp/Manpower',\n",
       "  'Procter': 'www.indeed.com/cmp/Procter',\n",
       "  'Procter & Gamble': 'www.indeed.com/cmp/Procter-&-Gamble',\n",
       "  'Randstad': 'www.indeed.com/cmp/Randstad'},\n",
       " 'Pulte Mortgage': {'Pulte Mortgage LLC': 'www.indeed.com/cmp/Pulte-Mortgage-LLC',\n",
       "  'PulteGroup, Inc': 'www.indeed.com/cmp/Pultegroup,-Inc'},\n",
       " 'STRIVE Preparatory Schools': {'STRIVE Preparatory Schools': 'www.indeed.com/cmp/Strive-Preparatory-Schools'},\n",
       " 'Taylor Smith Consulting, LLC': {'Taylor Smith Consulting': 'www.indeed.com/cmp/Taylor-Smith-Consulting',\n",
       "  'Taylor Smith Consulting, LLC': 'www.indeed.com/cmp/Taylor-Smith-Consulting,-LLC'},\n",
       " 'Techtronic Industries North America Inc': {'Techtronic Industries North America': 'www.indeed.com/cmp/Techtronic-Industries-North-America'},\n",
       " 'The Buckle , Inc.': {'BUCKLEY AIR FORCE BASE': 'www.indeed.com/cmp/Buckley-Air-Force-Base',\n",
       "  'Buckle': 'www.indeed.com/cmp/Buckle',\n",
       "  'Buckle Clothing': 'www.indeed.com/cmp/Buckle-Clothing',\n",
       "  'Buckle Clothing Store': 'www.indeed.com/cmp/Buckle-Clothing-Store',\n",
       "  'Buckle Inc- Retail': 'www.indeed.com/cmp/Buckle-Inc---Retail',\n",
       "  'Buckle, Inc': 'www.indeed.com/cmp/Buckle,-Inc',\n",
       "  'Buckley': 'www.indeed.com/cmp/Buckley',\n",
       "  'Buckley Associates': 'www.indeed.com/cmp/Buckley-Associates',\n",
       "  'Buckley Madole': 'www.indeed.com/cmp/Buckley-Madole',\n",
       "  'The Buckle, Inc': 'www.indeed.com/cmp/The-Buckle,-Inc'},\n",
       " 'The Travelers Companies Inc.': {'Travelers': 'www.indeed.com/cmp/Travelers'},\n",
       " 'Transamerica Corporation': {'Transamerica': 'www.indeed.com/cmp/Transamerica',\n",
       "  'Transamerica Agency Network': 'www.indeed.com/cmp/Transamerica-Agency-Network',\n",
       "  'Transamerica Corporation': 'www.indeed.com/cmp/Transamerica-Corporation',\n",
       "  'Transamerica Financial Advisors': 'www.indeed.com/cmp/Transamerica-Financial-Advisors',\n",
       "  'Transamerica Insurance': 'www.indeed.com/cmp/Transamerica-Insurance',\n",
       "  'Transamerica Life & Protection': 'www.indeed.com/cmp/Transamerica-Life-&-Protection',\n",
       "  'Transamerica Life Insurance': 'www.indeed.com/cmp/Transamerica-Life-Insurance',\n",
       "  'Transamerica Life Insurance Company': 'www.indeed.com/cmp/Transamerica-Life-Insurance-Company',\n",
       "  'Transamerica Retirement Solutions': 'www.indeed.com/cmp/Transamerica-Retirement-Solutions',\n",
       "  'Transamerica US': 'www.indeed.com/cmp/Transamerica-US'},\n",
       " 'Trustpilot': {'TRUSTPILOT': 'www.indeed.com/cmp/Trustpilot'},\n",
       " 'USPS OIG': {'United States Postal Service': 'www.indeed.com/cmp/United-States-Postal-Service'},\n",
       " 'Universal Forest Products': {'UFP universal forest products': 'www.indeed.com/cmp/Ufp-Universal-Forest-Products',\n",
       "  'Universal Forest Products Inc': 'www.indeed.com/cmp/Universal-Forest-Products-Inc',\n",
       "  'Universal Forest Products, Inc.': 'www.indeed.com/cmp/Universal-Forest-Products,-Inc.'},\n",
       " 'Vanguard': {'Harvard Vanguard Medical Associates': 'www.indeed.com/cmp/Harvard-Vanguard-Medical-Associates',\n",
       "  'VANGUARD NATIONAL TRAILER': 'www.indeed.com/cmp/Vanguard-National-Trailer',\n",
       "  'VANGUARD RESOURCES': 'www.indeed.com/cmp/Vanguard-Resources',\n",
       "  'VANGUARD UNIVERSITY': 'www.indeed.com/cmp/Vanguard-University',\n",
       "  'Vanguard': 'www.indeed.com/cmp/Vanguard',\n",
       "  'Vanguard Car Rental USA': 'www.indeed.com/cmp/Vanguard-Car-Rental-USA',\n",
       "  'Vanguard Cleaning Systems': 'www.indeed.com/cmp/Vanguard-Cleaning-Systems',\n",
       "  'Vanguard Emergency Management': 'www.indeed.com/cmp/Vanguard-Emergency-Management',\n",
       "  'Vanguard Logistics': 'www.indeed.com/cmp/Vanguard-Logistics',\n",
       "  'Vanguard Resources Inc.': 'www.indeed.com/cmp/Vanguard-Resources-Inc.'},\n",
       " 'Vistana Signature Experiences': {'Vistana Signature Experiences': 'www.indeed.com/cmp/Vistana-Signature-Experiences'},\n",
       " 'Visual TECH.': {'Audio Visual Tech': 'www.indeed.com/cmp/Audio-Visual-Tech',\n",
       "  'Audio Visual Technologies': 'www.indeed.com/cmp/Audio-Visual-Technologies',\n",
       "  'Canvys Visual Technology Solutions': 'www.indeed.com/cmp/Canvys-Visual-Technology-Solutions',\n",
       "  'NVIDIA': 'www.indeed.com/cmp/Nvidia',\n",
       "  'Technical Services Audio Visual': 'www.indeed.com/cmp/Technical-Services-Audio-Visual',\n",
       "  'Technicolor': 'www.indeed.com/cmp/Technicolor',\n",
       "  'Visual Awareness Technologies & Consulting': 'www.indeed.com/cmp/Visual-Awareness-Technologies-&-Consulting',\n",
       "  'Visual Tech': 'www.indeed.com/cmp/Visual-Tech'},\n",
       " 'WXYZ': {'WXYZ': 'www.indeed.com/cmp/Wxyz',\n",
       "  'WXYZ-TV': 'www.indeed.com/cmp/Wxyz--tv'},\n",
       " 'Wealth Strategies Group LLC': {'Guardian Life Insurance Company': 'www.indeed.com/cmp/Guardian-Life-Insurance-Company',\n",
       "  'MetLife': 'www.indeed.com/cmp/MetLife',\n",
       "  'Wealth Strategies Group': 'www.indeed.com/cmp/Wealth-Strategies-Group'},\n",
       " 'Zayo Group LLC': {'Zayo Group': 'www.indeed.com/cmp/Zayo-Group'}}"
      ]
     },
     "execution_count": 16,
     "metadata": {},
     "output_type": "execute_result"
    }
   ],
   "source": [
    "comp_data\n"
   ]
  },
  {
   "cell_type": "code",
   "execution_count": 17,
   "metadata": {},
   "outputs": [
    {
     "data": {
      "text/plain": [
       "['__class__',\n",
       " '__contains__',\n",
       " '__delattr__',\n",
       " '__delitem__',\n",
       " '__dir__',\n",
       " '__doc__',\n",
       " '__eq__',\n",
       " '__format__',\n",
       " '__ge__',\n",
       " '__getattribute__',\n",
       " '__getitem__',\n",
       " '__gt__',\n",
       " '__hash__',\n",
       " '__init__',\n",
       " '__init_subclass__',\n",
       " '__iter__',\n",
       " '__le__',\n",
       " '__len__',\n",
       " '__lt__',\n",
       " '__ne__',\n",
       " '__new__',\n",
       " '__reduce__',\n",
       " '__reduce_ex__',\n",
       " '__repr__',\n",
       " '__setattr__',\n",
       " '__setitem__',\n",
       " '__sizeof__',\n",
       " '__str__',\n",
       " '__subclasshook__',\n",
       " 'clear',\n",
       " 'copy',\n",
       " 'fromkeys',\n",
       " 'get',\n",
       " 'items',\n",
       " 'keys',\n",
       " 'pop',\n",
       " 'popitem',\n",
       " 'setdefault',\n",
       " 'update',\n",
       " 'values']"
      ]
     },
     "execution_count": 17,
     "metadata": {},
     "output_type": "execute_result"
    }
   ],
   "source": [
    "dir(comp_data)"
   ]
  },
  {
   "cell_type": "code",
   "execution_count": 20,
   "metadata": {},
   "outputs": [
    {
     "name": "stdout",
     "output_type": "stream",
     "text": [
      "Wealth Strategies Group LLC\n",
      "Arrow Electronics\n",
      "New York Life Insurance Company\n",
      "Oakwood Homes, LLC\n",
      "Mutual of Omaha\n",
      "Monterey Marketing Inc\n",
      "STRIVE Preparatory Schools\n",
      "At Home Personal Care\n",
      "Janus Henderson Investors\n",
      "Graebel Companies, Inc.\n",
      "Trustpilot\n",
      "Taylor Smith Consulting, LLC\n",
      "The Travelers Companies Inc.\n",
      "Business\n",
      "IHG - InterContinental Hotels Group\n",
      "Vistana Signature Experiences\n",
      "Coyote Logistics LLC\n",
      "Agility Recovery\n",
      "Foresters Financial\n",
      "Ensign Services Inc\n",
      "Collabera\n",
      "WXYZ\n",
      "Frontier Airlines, Inc.\n",
      "Zayo Group LLC\n",
      "Grace Presbyterian Village\n",
      "Visual TECH.\n",
      "Hagerty\n",
      "Procter & Gamble\n",
      "City Year Inc\n",
      "City and County Of Denver\n",
      "Vanguard\n",
      "Techtronic Industries North America Inc\n",
      "Transamerica Corporation\n",
      "The Buckle , Inc.\n",
      "General Services Administration\n",
      "CED - Consolidated Electrical Distributors, Inc.\n",
      "Ball Corporation\n",
      "Delta Dental CO\n",
      "Pulte Mortgage\n",
      "Ibotta, Inc.\n",
      "Pacific Office Automation\n",
      "Universal Forest Products\n",
      "USPS OIG\n",
      "Penske Truck Leasing\n",
      "Federal Reserve Bank Of Kansas City\n"
     ]
    }
   ],
   "source": [
    "for (key,val) in comp_data.items():\n",
    "    print(key)\n",
    "    \n"
   ]
  },
  {
   "cell_type": "code",
   "execution_count": 22,
   "metadata": {},
   "outputs": [],
   "source": [
    "def refind_companies_link(comp_data):\n",
    "\n",
    "\trefined = {}\n",
    "\n",
    "\tfor key, val in comp_data.items():\n",
    "\t\tkey_lower = key.lower()\n",
    "\n",
    "\t\tfound = False\n",
    "\t\tfor k, v in val.items():\n",
    "\t\t\tif k.lower() == key_lower:\n",
    "\t\t\t\trefined[key] = v\n",
    "\t\t\t\tfound = True\n",
    "\t\t\t\tbreak\n",
    "\t\tif not found:\n",
    "\t\t\tfor k, v in val.items():\n",
    "\t\t\t\tif key_lower in k:\n",
    "\t\t\t\t\trefined[key] = v\n",
    "\t\t\t\t\tbreak\n",
    "\treturn refined\n",
    "\n"
   ]
  },
  {
   "cell_type": "code",
   "execution_count": 23,
   "metadata": {},
   "outputs": [],
   "source": [
    "comp_data = refind_companies_link(companies_link)"
   ]
  },
  {
   "cell_type": "code",
   "execution_count": 24,
   "metadata": {},
   "outputs": [
    {
     "data": {
      "text/plain": [
       "{'Agility Recovery': 'www.indeed.com/cmp/Agility-Recovery',\n",
       " 'Arrow Electronics': 'www.indeed.com/cmp/Arrow-Electronics',\n",
       " 'Ball Corporation': 'www.indeed.com/cmp/Ball-Corporation',\n",
       " 'City and County Of Denver': 'www.indeed.com/cmp/City-and-County-of-Denver',\n",
       " 'Collabera': 'www.indeed.com/cmp/Collabera',\n",
       " 'Federal Reserve Bank Of Kansas City': 'www.indeed.com/cmp/Federal-Reserve-Bank-of-Kansas-City',\n",
       " 'Foresters Financial': 'www.indeed.com/cmp/Foresters-Financial',\n",
       " 'Frontier Airlines, Inc.': 'www.indeed.com/cmp/Frontier-Airlines,-Inc.',\n",
       " 'Grace Presbyterian Village': 'www.indeed.com/cmp/Grace-Presbyterian-Village',\n",
       " 'Graebel Companies, Inc.': 'www.indeed.com/cmp/Graebel-Companies,-Inc.',\n",
       " 'Hagerty': 'www.indeed.com/cmp/Hagerty',\n",
       " 'Janus Henderson Investors': 'www.indeed.com/cmp/Janus-Henderson-Investors',\n",
       " 'Mutual of Omaha': 'www.indeed.com/cmp/Mutual-of-Omaha',\n",
       " 'New York Life Insurance Company': 'www.indeed.com/cmp/New-York-Life-Insurance-Company',\n",
       " 'Pacific Office Automation': 'www.indeed.com/cmp/Pacific-Office-Automation',\n",
       " 'Procter & Gamble': 'www.indeed.com/cmp/Procter-&-Gamble',\n",
       " 'STRIVE Preparatory Schools': 'www.indeed.com/cmp/Strive-Preparatory-Schools',\n",
       " 'Taylor Smith Consulting, LLC': 'www.indeed.com/cmp/Taylor-Smith-Consulting,-LLC',\n",
       " 'Transamerica Corporation': 'www.indeed.com/cmp/Transamerica-Corporation',\n",
       " 'Trustpilot': 'www.indeed.com/cmp/Trustpilot',\n",
       " 'Universal Forest Products': 'www.indeed.com/cmp/Ufp-Universal-Forest-Products',\n",
       " 'Vanguard': 'www.indeed.com/cmp/Vanguard',\n",
       " 'Vistana Signature Experiences': 'www.indeed.com/cmp/Vistana-Signature-Experiences',\n",
       " 'WXYZ': 'www.indeed.com/cmp/Wxyz'}"
      ]
     },
     "execution_count": 24,
     "metadata": {},
     "output_type": "execute_result"
    }
   ],
   "source": [
    "comp_data\n"
   ]
  },
  {
   "cell_type": "code",
   "execution_count": 25,
   "metadata": {},
   "outputs": [
    {
     "data": {
      "text/plain": [
       "{'Pulte Mortgage LLC': 'www.indeed.com/cmp/Pulte-Mortgage-LLC',\n",
       " 'PulteGroup, Inc': 'www.indeed.com/cmp/Pultegroup,-Inc'}"
      ]
     },
     "execution_count": 25,
     "metadata": {},
     "output_type": "execute_result"
    }
   ],
   "source": [
    "companies_link[\"Pulte Mortgage\"]"
   ]
  },
  {
   "cell_type": "code",
   "execution_count": 26,
   "metadata": {},
   "outputs": [
    {
     "ename": "KeyError",
     "evalue": "'Pulte Mortgage'",
     "output_type": "error",
     "traceback": [
      "\u001b[0;31m---------------------------------------------------------------------------\u001b[0m",
      "\u001b[0;31mKeyError\u001b[0m                                  Traceback (most recent call last)",
      "\u001b[0;32m<ipython-input-26-a638f7d0bf60>\u001b[0m in \u001b[0;36m<module>\u001b[0;34m()\u001b[0m\n\u001b[0;32m----> 1\u001b[0;31m \u001b[0mcomp_data\u001b[0m\u001b[0;34m[\u001b[0m\u001b[0;34m\"Pulte Mortgage\"\u001b[0m\u001b[0;34m]\u001b[0m\u001b[0;34m\u001b[0m\u001b[0m\n\u001b[0m",
      "\u001b[0;31mKeyError\u001b[0m: 'Pulte Mortgage'"
     ]
    }
   ],
   "source": [
    "comp_data[\"Pulte Mortgage\"]"
   ]
  },
  {
   "cell_type": "code",
   "execution_count": 27,
   "metadata": {},
   "outputs": [],
   "source": [
    "def refind_companies_link(comp_data):\n",
    "\n",
    "\trefined = {}\n",
    "\n",
    "\tfor key, val in comp_data.items():\n",
    "\t\tkey_lower = key.lower()\n",
    "\n",
    "\t\tfound = False\n",
    "\t\tfor k, v in val.items():\n",
    "\t\t\tif k.lower() == key_lower:\n",
    "\t\t\t\trefined[key] = v\n",
    "\t\t\t\tfound = True\n",
    "\t\t\t\tbreak\n",
    "\t\tif not found:\n",
    "\t\t\tfor k, v in val.items():\n",
    "\t\t\t\tif key_lower in k.lower():\n",
    "\t\t\t\t\trefined[key] = v\n",
    "\t\t\t\t\tbreak\n",
    "\treturn refined\n"
   ]
  },
  {
   "cell_type": "code",
   "execution_count": 28,
   "metadata": {},
   "outputs": [],
   "source": [
    "comp_data = refind_companies_link(companies_link)"
   ]
  },
  {
   "cell_type": "code",
   "execution_count": 29,
   "metadata": {},
   "outputs": [
    {
     "data": {
      "text/plain": [
       "{'Agility Recovery': 'www.indeed.com/cmp/Agility-Recovery',\n",
       " 'Arrow Electronics': 'www.indeed.com/cmp/Arrow-Electronics',\n",
       " 'At Home Personal Care': 'www.indeed.com/cmp/Stay-At-Home-Personal-Care',\n",
       " 'Ball Corporation': 'www.indeed.com/cmp/Ball-Corporation',\n",
       " 'Business': 'www.indeed.com/cmp/Citizens-Business-Bank',\n",
       " 'City and County Of Denver': 'www.indeed.com/cmp/City-and-County-of-Denver',\n",
       " 'Collabera': 'www.indeed.com/cmp/Collabera',\n",
       " 'Federal Reserve Bank Of Kansas City': 'www.indeed.com/cmp/Federal-Reserve-Bank-of-Kansas-City',\n",
       " 'Foresters Financial': 'www.indeed.com/cmp/Foresters-Financial',\n",
       " 'Frontier Airlines, Inc.': 'www.indeed.com/cmp/Frontier-Airlines,-Inc.',\n",
       " 'General Services Administration': 'www.indeed.com/cmp/US-General-Services-Administration-(gsa)',\n",
       " 'Grace Presbyterian Village': 'www.indeed.com/cmp/Grace-Presbyterian-Village',\n",
       " 'Graebel Companies, Inc.': 'www.indeed.com/cmp/Graebel-Companies,-Inc.',\n",
       " 'Hagerty': 'www.indeed.com/cmp/Hagerty',\n",
       " 'Janus Henderson Investors': 'www.indeed.com/cmp/Janus-Henderson-Investors',\n",
       " 'Mutual of Omaha': 'www.indeed.com/cmp/Mutual-of-Omaha',\n",
       " 'New York Life Insurance Company': 'www.indeed.com/cmp/New-York-Life-Insurance-Company',\n",
       " 'Pacific Office Automation': 'www.indeed.com/cmp/Pacific-Office-Automation',\n",
       " 'Procter & Gamble': 'www.indeed.com/cmp/Procter-&-Gamble',\n",
       " 'Pulte Mortgage': 'www.indeed.com/cmp/Pulte-Mortgage-LLC',\n",
       " 'STRIVE Preparatory Schools': 'www.indeed.com/cmp/Strive-Preparatory-Schools',\n",
       " 'Taylor Smith Consulting, LLC': 'www.indeed.com/cmp/Taylor-Smith-Consulting,-LLC',\n",
       " 'Transamerica Corporation': 'www.indeed.com/cmp/Transamerica-Corporation',\n",
       " 'Trustpilot': 'www.indeed.com/cmp/Trustpilot',\n",
       " 'Universal Forest Products': 'www.indeed.com/cmp/Ufp-Universal-Forest-Products',\n",
       " 'Vanguard': 'www.indeed.com/cmp/Vanguard',\n",
       " 'Vistana Signature Experiences': 'www.indeed.com/cmp/Vistana-Signature-Experiences',\n",
       " 'WXYZ': 'www.indeed.com/cmp/Wxyz'}"
      ]
     },
     "execution_count": 29,
     "metadata": {},
     "output_type": "execute_result"
    }
   ],
   "source": [
    "comp_data"
   ]
  },
  {
   "cell_type": "code",
   "execution_count": 30,
   "metadata": {},
   "outputs": [
    {
     "data": {
      "text/plain": [
       "28"
      ]
     },
     "execution_count": 30,
     "metadata": {},
     "output_type": "execute_result"
    }
   ],
   "source": [
    "len(comp_data)"
   ]
  },
  {
   "cell_type": "code",
   "execution_count": 32,
   "metadata": {},
   "outputs": [],
   "source": [
    "pickle.dump(comp_data, open('refined_companies_link.pkl', 'wb'), protocol=2)"
   ]
  },
  {
   "cell_type": "code",
   "execution_count": null,
   "metadata": {},
   "outputs": [],
   "source": []
  },
  {
   "cell_type": "code",
   "execution_count": null,
   "metadata": {},
   "outputs": [],
   "source": []
  },
  {
   "cell_type": "code",
   "execution_count": 35,
   "metadata": {},
   "outputs": [],
   "source": [
    "def compute(pat):\n",
    "    length = 0\n",
    "    lps = [0]*len(pat)\n",
    "    \n",
    "    m = len(pat)\n",
    "    i = 1\n",
    "    \n",
    "    while i < m:\n",
    "        print(length)\n",
    "        if pat[i] == pat[length]:\n",
    "            length += 1\n",
    "            lps[i] = length\n",
    "            i += 1\n",
    "        else:\n",
    "            if length != 0:\n",
    "                length = lps[length-1]\n",
    "            else:\n",
    "                lps[i] = 0\n",
    "                i += 1\n",
    "\n",
    "        "
   ]
  },
  {
   "cell_type": "code",
   "execution_count": 37,
   "metadata": {},
   "outputs": [
    {
     "name": "stdout",
     "output_type": "stream",
     "text": [
      "0\n",
      "0\n",
      "0\n",
      "0\n",
      "0\n",
      "0\n",
      "1\n",
      "0\n"
     ]
    }
   ],
   "source": [
    "compute(\"racecars\")"
   ]
  },
  {
   "cell_type": "code",
   "execution_count": null,
   "metadata": {},
   "outputs": [],
   "source": []
  },
  {
   "cell_type": "code",
   "execution_count": null,
   "metadata": {},
   "outputs": [],
   "source": []
  },
  {
   "cell_type": "code",
   "execution_count": null,
   "metadata": {},
   "outputs": [],
   "source": []
  }
 ],
 "metadata": {
  "kernelspec": {
   "display_name": "Python 3",
   "language": "python",
   "name": "python3"
  },
  "language_info": {
   "codemirror_mode": {
    "name": "ipython",
    "version": 3
   },
   "file_extension": ".py",
   "mimetype": "text/x-python",
   "name": "python",
   "nbconvert_exporter": "python",
   "pygments_lexer": "ipython3",
   "version": "3.6.3"
  }
 },
 "nbformat": 4,
 "nbformat_minor": 2
}
